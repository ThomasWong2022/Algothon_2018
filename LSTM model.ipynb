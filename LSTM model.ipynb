{
 "cells": [
  {
   "cell_type": "code",
   "execution_count": 1,
   "metadata": {},
   "outputs": [
    {
     "name": "stderr",
     "output_type": "stream",
     "text": [
      "Using TensorFlow backend.\n"
     ]
    }
   ],
   "source": [
    "import pandas as pd\n",
    "import time\n",
    "import matplotlib as plt\n",
    "import datetime\n",
    "import numpy as np\n",
    "import gc\n",
    "import keras\n",
    "from keras.models import Sequential\n",
    "from keras.layers import Activation, Dense\n",
    "from keras.layers import LSTM\n",
    "from keras.layers import Dropout\n",
    "%matplotlib inline\n"
   ]
  },
  {
   "cell_type": "markdown",
   "metadata": {},
   "source": [
    "# Data "
   ]
  },
  {
   "cell_type": "code",
   "execution_count": 2,
   "metadata": {},
   "outputs": [
    {
     "data": {
      "text/html": [
       "<div>\n",
       "<style scoped>\n",
       "    .dataframe tbody tr th:only-of-type {\n",
       "        vertical-align: middle;\n",
       "    }\n",
       "\n",
       "    .dataframe tbody tr th {\n",
       "        vertical-align: top;\n",
       "    }\n",
       "\n",
       "    .dataframe thead th {\n",
       "        text-align: right;\n",
       "    }\n",
       "</style>\n",
       "<table border=\"1\" class=\"dataframe\">\n",
       "  <thead>\n",
       "    <tr style=\"text-align: right;\">\n",
       "      <th></th>\n",
       "      <th>bid</th>\n",
       "      <th>ask</th>\n",
       "      <th>mid</th>\n",
       "    </tr>\n",
       "    <tr>\n",
       "      <th>time</th>\n",
       "      <th></th>\n",
       "      <th></th>\n",
       "      <th></th>\n",
       "    </tr>\n",
       "  </thead>\n",
       "  <tbody>\n",
       "    <tr>\n",
       "      <th>2014-01-01</th>\n",
       "      <td>2.102973</td>\n",
       "      <td>2.104427</td>\n",
       "      <td>2.103700</td>\n",
       "    </tr>\n",
       "    <tr>\n",
       "      <th>2014-01-02</th>\n",
       "      <td>2.102629</td>\n",
       "      <td>2.103076</td>\n",
       "      <td>2.102852</td>\n",
       "    </tr>\n",
       "    <tr>\n",
       "      <th>2014-01-03</th>\n",
       "      <td>2.097446</td>\n",
       "      <td>2.097847</td>\n",
       "      <td>2.097646</td>\n",
       "    </tr>\n",
       "    <tr>\n",
       "      <th>2014-01-04</th>\n",
       "      <td>2.092124</td>\n",
       "      <td>2.093106</td>\n",
       "      <td>2.092615</td>\n",
       "    </tr>\n",
       "    <tr>\n",
       "      <th>2014-01-05</th>\n",
       "      <td>2.092124</td>\n",
       "      <td>2.093106</td>\n",
       "      <td>2.092615</td>\n",
       "    </tr>\n",
       "    <tr>\n",
       "      <th>2014-01-06</th>\n",
       "      <td>2.095182</td>\n",
       "      <td>2.095528</td>\n",
       "      <td>2.095355</td>\n",
       "    </tr>\n",
       "  </tbody>\n",
       "</table>\n",
       "</div>"
      ],
      "text/plain": [
       "                 bid       ask       mid\n",
       "time                                    \n",
       "2014-01-01  2.102973  2.104427  2.103700\n",
       "2014-01-02  2.102629  2.103076  2.102852\n",
       "2014-01-03  2.097446  2.097847  2.097646\n",
       "2014-01-04  2.092124  2.093106  2.092615\n",
       "2014-01-05  2.092124  2.093106  2.092615\n",
       "2014-01-06  2.095182  2.095528  2.095355"
      ]
     },
     "execution_count": 2,
     "metadata": {},
     "output_type": "execute_result"
    }
   ],
   "source": [
    "Data= pd.read_csv(\"Resampled_price.csv\")\n",
    "\n",
    "Data['time']=pd.to_datetime(Data['time'])\n",
    "Data.set_index('time',inplace=True)\n",
    "\n",
    "Data=Data.resample('1D').mean()\n",
    "Data['mid']=(Data['bid']+Data['ask'])*0.5\n",
    "Data.head(6)\n"
   ]
  },
  {
   "cell_type": "code",
   "execution_count": 3,
   "metadata": {},
   "outputs": [],
   "source": [
    "Data['bid']=Data['bid'].pct_change() \n",
    "Data['ask']=Data['ask'].pct_change() \n",
    "Data['mid']=Data['mid'].pct_change() \n",
    "#Data[Data.ask==0].shape[0]"
   ]
  },
  {
   "cell_type": "code",
   "execution_count": null,
   "metadata": {},
   "outputs": [],
   "source": []
  },
  {
   "cell_type": "code",
   "execution_count": 4,
   "metadata": {},
   "outputs": [
    {
     "data": {
      "text/plain": [
       "<matplotlib.axes._subplots.AxesSubplot at 0xb3bdb12b0>"
      ]
     },
     "execution_count": 4,
     "metadata": {},
     "output_type": "execute_result"
    },
    {
     "data": {
      "image/png": "[encoded data removed]",
      "text/plain": [
       "<Figure size 432x288 with 1 Axes>"
      ]
     },
     "metadata": {
      "needs_background": "light"
     },
     "output_type": "display_data"
    }
   ],
   "source": [
    "Data['ask'].plot()\n"
   ]
  },
  {
   "cell_type": "markdown",
   "metadata": {},
   "source": [
    "# Statistics \n"
   ]
  },
  {
   "cell_type": "code",
   "execution_count": 5,
   "metadata": {},
   "outputs": [
    {
     "data": {
      "text/plain": [
       "7.30914348033037e-06"
      ]
     },
     "execution_count": 5,
     "metadata": {},
     "output_type": "execute_result"
    }
   ],
   "source": [
    "Data.ask.var()\n"
   ]
  },
  {
   "cell_type": "markdown",
   "metadata": {},
   "source": [
    "# Inputs and Outputs\n"
   ]
  },
  {
   "cell_type": "code",
   "execution_count": 6,
   "metadata": {},
   "outputs": [],
   "source": [
    "\n",
    "def create_input(data,window_len_input=5,window_len_output=3):\n",
    "    #Note-creates a list which later need to be transformed to np array\n",
    "    \n",
    "    inputs=[]\n",
    "    for i in range(len(data) - window_len_input-window_len_output):\n",
    "        temp_set = data[i:(i + window_len_input)].copy()\n",
    "        inputs.append(temp_set)\n",
    "    return inputs\n",
    "\n",
    "def create_outputs(data,window_len_input=5,window_len_output=3):\n",
    "     #Note-creates a list which later need to be transformed to np array\n",
    "    outputs=[]\n",
    "    for i in range(window_len_input,len(data)):\n",
    "        time_set=data[i:(i + window_len_output)].copy()\n",
    "        outputs.append(time_set)\n",
    "    return outputs\n",
    "\n",
    "def create_windows(data,window_len):\n",
    "     #Note-creates a list which later need to be transformed to np array\n",
    "    outputs=[]\n",
    "    for i in range(len(data)-window_len):\n",
    "        time_set=data[i:(i + window_len)].copy()\n",
    "        outputs.append(time_set)\n",
    "    return outputs\n",
    "\n",
    "\n",
    "\n",
    "\n",
    "\n",
    "\n",
    "def to_array(data):\n",
    "      \n",
    "     #data: DataFrame\n",
    "       #This function will convert list of inputs to a numpy array\n",
    "     #Return: numpy array\n",
    "      \n",
    "   # x=[np.array(data[i]) for i in range (len(data))]\n",
    "    x=[np.array(data[i]) for i in range (len(data))]\n",
    "\n",
    "    return np.array(x)\n"
   ]
  },
  {
   "cell_type": "code",
   "execution_count": 8,
   "metadata": {},
   "outputs": [
    {
     "data": {
      "text/html": [
       "<div>\n",
       "<style scoped>\n",
       "    .dataframe tbody tr th:only-of-type {\n",
       "        vertical-align: middle;\n",
       "    }\n",
       "\n",
       "    .dataframe tbody tr th {\n",
       "        vertical-align: top;\n",
       "    }\n",
       "\n",
       "    .dataframe thead th {\n",
       "        text-align: right;\n",
       "    }\n",
       "</style>\n",
       "<table border=\"1\" class=\"dataframe\">\n",
       "  <thead>\n",
       "    <tr style=\"text-align: right;\">\n",
       "      <th></th>\n",
       "      <th>bid</th>\n",
       "      <th>ask</th>\n",
       "      <th>mid</th>\n",
       "    </tr>\n",
       "    <tr>\n",
       "      <th>time</th>\n",
       "      <th></th>\n",
       "      <th></th>\n",
       "      <th></th>\n",
       "    </tr>\n",
       "  </thead>\n",
       "  <tbody>\n",
       "    <tr>\n",
       "      <th>2014-01-02</th>\n",
       "      <td>-0.000163</td>\n",
       "      <td>-0.000642</td>\n",
       "      <td>-0.000403</td>\n",
       "    </tr>\n",
       "    <tr>\n",
       "      <th>2014-01-03</th>\n",
       "      <td>-0.002465</td>\n",
       "      <td>-0.002486</td>\n",
       "      <td>-0.002476</td>\n",
       "    </tr>\n",
       "    <tr>\n",
       "      <th>2014-01-04</th>\n",
       "      <td>-0.002537</td>\n",
       "      <td>-0.002260</td>\n",
       "      <td>-0.002399</td>\n",
       "    </tr>\n",
       "    <tr>\n",
       "      <th>2014-01-05</th>\n",
       "      <td>0.000000</td>\n",
       "      <td>0.000000</td>\n",
       "      <td>0.000000</td>\n",
       "    </tr>\n",
       "    <tr>\n",
       "      <th>2014-01-06</th>\n",
       "      <td>0.001462</td>\n",
       "      <td>0.001157</td>\n",
       "      <td>0.001309</td>\n",
       "    </tr>\n",
       "  </tbody>\n",
       "</table>\n",
       "</div>"
      ],
      "text/plain": [
       "                 bid       ask       mid\n",
       "time                                    \n",
       "2014-01-02 -0.000163 -0.000642 -0.000403\n",
       "2014-01-03 -0.002465 -0.002486 -0.002476\n",
       "2014-01-04 -0.002537 -0.002260 -0.002399\n",
       "2014-01-05  0.000000  0.000000  0.000000\n",
       "2014-01-06  0.001462  0.001157  0.001309"
      ]
     },
     "execution_count": 8,
     "metadata": {},
     "output_type": "execute_result"
    }
   ],
   "source": [
    "Data['mid']=(Data['bid']+Data['ask'])*0.5\n",
    "Data=Data[1:]\n",
    "Data.head()"
   ]
  },
  {
   "cell_type": "code",
   "execution_count": 9,
   "metadata": {},
   "outputs": [],
   "source": [
    "inputs=create_windows(Data.loc[:, Data.columns != 'mid'],120)\n",
    "#outputs=create_outputs(Data.iloc[:20, 2:3])\n",
    "outputs=create_windows(Data.loc[:, Data.columns != 'mid'],60)\n",
    "\n"
   ]
  },
  {
   "cell_type": "code",
   "execution_count": 10,
   "metadata": {
    "scrolled": true
   },
   "outputs": [
    {
     "name": "stdout",
     "output_type": "stream",
     "text": [
      "                 bid       ask\n",
      "time                          \n",
      "2014-01-02 -0.000163 -0.000642\n",
      "2014-01-03 -0.002465 -0.002486\n",
      "2014-01-04 -0.002537 -0.002260\n",
      "2014-01-05  0.000000  0.000000\n",
      "2014-01-06  0.001462  0.001157\n",
      "2014-01-07 -0.001970 -0.001980\n",
      "2014-01-08 -0.001766 -0.001767\n",
      "2014-01-09 -0.001151 -0.001150\n",
      "2014-01-10  0.003456  0.003481\n",
      "2014-01-11  0.001092  0.001396\n",
      "2014-01-12  0.000000  0.000000\n",
      "2014-01-13  0.000365  0.000030\n",
      "2014-01-14 -0.003066 -0.003073\n",
      "2014-01-15 -0.002921 -0.002910\n",
      "2014-01-16 -0.003215 -0.003223\n",
      "2014-01-17 -0.000710 -0.000683\n",
      "2014-01-18 -0.002040 -0.001706\n",
      "2014-01-19  0.000000  0.000000\n",
      "2014-01-20  0.000667  0.000341\n",
      "2014-01-21 -0.002947 -0.002976\n",
      "2014-01-22  0.000937  0.000922\n",
      "2014-01-23 -0.001693 -0.001695\n",
      "2014-01-24  0.000657  0.000698\n",
      "2014-01-25  0.001519  0.001870\n",
      "2014-01-26  0.000000  0.000000\n",
      "2014-01-27  0.000536  0.000168\n",
      "2014-01-28 -0.000218 -0.000222\n",
      "2014-01-29 -0.000438 -0.000438\n",
      "2014-01-30  0.003796  0.003779\n",
      "2014-01-31  0.000219  0.000337\n",
      "...              ...       ...\n",
      "2014-04-02  0.004257  0.004253\n",
      "2014-04-03 -0.000027 -0.000015\n",
      "2014-04-04 -0.001110 -0.000887\n",
      "2014-04-05 -0.001359  0.000287\n",
      "2014-04-06  0.000000  0.000000\n",
      "2014-04-07  0.000316 -0.001563\n",
      "2014-04-08 -0.001828 -0.001819\n",
      "2014-04-09 -0.000073 -0.000077\n",
      "2014-04-10  0.002690  0.002692\n",
      "2014-04-11  0.002167  0.002264\n",
      "2014-04-12 -0.000616  0.000072\n",
      "2014-04-13  0.000000  0.000000\n",
      "2014-04-14 -0.000027 -0.000809\n",
      "2014-04-15 -0.000940 -0.000937\n",
      "2014-04-16  0.001423  0.001418\n",
      "2014-04-17 -0.001377 -0.001370\n",
      "2014-04-18  0.000151  0.000592\n",
      "2014-04-19 -0.001129  0.000815\n",
      "2014-04-20  0.000000  0.000000\n",
      "2014-04-21  0.001442 -0.000934\n",
      "2014-04-22 -0.000557 -0.000579\n",
      "2014-04-23 -0.002170 -0.002142\n",
      "2014-04-24 -0.000300 -0.000332\n",
      "2014-04-25  0.000544  0.000622\n",
      "2014-04-26 -0.000304  0.000292\n",
      "2014-04-27  0.000000  0.000000\n",
      "2014-04-28  0.001986  0.001313\n",
      "2014-04-29 -0.000221 -0.000225\n",
      "2014-04-30 -0.002077 -0.002072\n",
      "2014-05-01 -0.001905 -0.001895\n",
      "\n",
      "[120 rows x 2 columns]\n"
     ]
    }
   ],
   "source": [
    "print(inputs[0])"
   ]
  },
  {
   "cell_type": "code",
   "execution_count": 11,
   "metadata": {
    "scrolled": true
   },
   "outputs": [
    {
     "name": "stdout",
     "output_type": "stream",
     "text": [
      "                 bid       ask\n",
      "time                          \n",
      "2014-05-02 -0.001565 -0.001379\n",
      "2014-05-03 -0.000375  0.001078\n",
      "2014-05-04  0.000000  0.000000\n",
      "2014-05-05 -0.000375 -0.002019\n",
      "2014-05-06 -0.001099 -0.001110\n",
      "2014-05-07  0.002708  0.002704\n",
      "2014-05-08  0.002394  0.002405\n",
      "2014-05-09 -0.001792 -0.001704\n",
      "2014-05-10 -0.000023  0.000648\n",
      "2014-05-11  0.000000  0.000000\n",
      "2014-05-12 -0.000421 -0.001187\n",
      "2014-05-13 -0.001371 -0.001366\n",
      "2014-05-14  0.000323  0.000315\n",
      "2014-05-15 -0.001349 -0.001343\n",
      "2014-05-16 -0.000048  0.000043\n",
      "2014-05-17 -0.000425  0.000266\n",
      "2014-05-18  0.000000  0.000000\n",
      "2014-05-19 -0.000616 -0.001391\n",
      "2014-05-20 -0.001787 -0.001801\n",
      "2014-05-21 -0.002240 -0.002228\n",
      "2014-05-22 -0.000189 -0.000188\n",
      "2014-05-23  0.000288  0.000479\n",
      "2014-05-24 -0.000466  0.000864\n",
      "2014-05-25  0.000000  0.000000\n",
      "2014-05-26  0.001529  0.000046\n",
      "2014-05-27  0.000778  0.000741\n",
      "2014-05-28  0.002149  0.002144\n",
      "2014-05-29  0.003861  0.003873\n",
      "2014-05-30  0.000547  0.000648\n",
      "2014-05-31 -0.000249  0.000504\n",
      "2014-06-01  0.000000  0.000000\n",
      "2014-06-02 -0.000578 -0.001434\n",
      "2014-06-03  0.001571  0.001567\n",
      "2014-06-04  0.002815  0.002811\n",
      "2014-06-05 -0.001411 -0.001404\n",
      "2014-06-06 -0.000461 -0.000342\n",
      "2014-06-07 -0.000396  0.000468\n",
      "2014-06-08  0.000000  0.000000\n",
      "2014-06-09  0.000075 -0.000908\n",
      "2014-06-10 -0.001617 -0.001621\n",
      "2014-06-11 -0.002711 -0.002710\n",
      "2014-06-12 -0.006088 -0.006083\n",
      "2014-06-13 -0.002582 -0.002402\n",
      "2014-06-14 -0.001417 -0.000117\n",
      "2014-06-15  0.000000  0.000000\n",
      "2014-06-16 -0.000079 -0.001551\n",
      "2014-06-17 -0.000506 -0.000512\n",
      "2014-06-18 -0.000459 -0.000456\n",
      "2014-06-19  0.001043  0.001041\n",
      "2014-06-20 -0.000238 -0.000151\n",
      "2014-06-21  0.000090  0.000818\n",
      "2014-06-22  0.000000  0.000000\n",
      "2014-06-23  0.000259 -0.000560\n",
      "2014-06-24  0.000748  0.000746\n",
      "2014-06-25 -0.000104 -0.000105\n",
      "2014-06-26 -0.002883 -0.002889\n",
      "2014-06-27  0.000169  0.000280\n",
      "2014-06-28 -0.000026  0.000776\n",
      "2014-06-29  0.000000  0.000000\n",
      "2014-06-30  0.001484  0.000579\n"
     ]
    }
   ],
   "source": [
    "print(outputs[120])"
   ]
  },
  {
   "cell_type": "code",
   "execution_count": 12,
   "metadata": {},
   "outputs": [
    {
     "name": "stdout",
     "output_type": "stream",
     "text": [
      "(1278, 120, 2) \n",
      " (1278, 60, 2)\n"
     ]
    }
   ],
   "source": [
    "Inputs=to_array(inputs[:-60])\n",
    "Outputs=to_array(outputs[120:])\n",
    "#outputs=outputs.reshape((-1,3,1))\n",
    "print(Inputs.shape,\"\\n\",Outputs.shape)"
   ]
  },
  {
   "cell_type": "code",
   "execution_count": 13,
   "metadata": {},
   "outputs": [
    {
     "name": "stdout",
     "output_type": "stream",
     "text": [
      "(1278, 60, 1)\n"
     ]
    },
    {
     "data": {
      "text/plain": [
       "(1278, 60)"
      ]
     },
     "execution_count": 13,
     "metadata": {},
     "output_type": "execute_result"
    }
   ],
   "source": [
    "Y=Outputs.mean(axis=2, dtype=None, out=None, keepdims=True)\n",
    "print(Y.shape)\n",
    "Y2=Y.reshape((Y.shape[0], -1))\n",
    "Y2.shape"
   ]
  },
  {
   "cell_type": "markdown",
   "metadata": {},
   "source": [
    "# Train-Test split"
   ]
  },
  {
   "cell_type": "code",
   "execution_count": 14,
   "metadata": {},
   "outputs": [],
   "source": [
    "def split_data(data, training_size=0.8):\n",
    "    return data[:int(training_size*len(data))], data[int(training_size*len(data)):]\n",
    "\n",
    "X_train,X_test=split_data(Inputs)\n",
    "Y_train,Y_test=split_data(Y2)\n",
    "# Y_train=Y_train.reshape((-1,3,1))\n",
    "# Y_test=Y_test.reshape((-1,3,1))\n",
    "# print(X_train.shape,\"\\n\",Y_train[0].shape,\"\\n\",Y_test.shape)\n",
    "\n",
    "\n",
    "# def asdf(data):\n",
    "#     for i in range(len(data)):\n",
    "#         data[i].reshape[]"
   ]
  },
  {
   "cell_type": "code",
   "execution_count": 15,
   "metadata": {},
   "outputs": [
    {
     "name": "stdout",
     "output_type": "stream",
     "text": [
      "(1022, 120, 2) \n",
      " (1022, 60)\n"
     ]
    }
   ],
   "source": [
    "print(X_train.shape,'\\n',Y_train.shape)\n"
   ]
  },
  {
   "cell_type": "markdown",
   "metadata": {},
   "source": [
    "# MODDEL\n",
    "-Denoising might be good to be added.\n"
   ]
  },
  {
   "cell_type": "code",
   "execution_count": 16,
   "metadata": {},
   "outputs": [],
   "source": [
    "neurons = 512                 \n",
    "activation_function = 'tanh'  \n",
    "loss = 'mse'                  \n",
    "optimizer= 'adam'            \n",
    "dropout = 0.10                \n",
    "batch_size = 128              \n",
    "epochs = 53                  \n",
    "          \n",
    "\n",
    "\n",
    "def build_model(inputs, outputs, neurons, activ_func=activation_function, dropout=dropout, loss=loss, optimizer=optimizer):\n",
    "  \n",
    "  #inputs: input data as numpy array\n",
    "  #output_size: number of predictions per input sample\n",
    "  #neurons: number of neurons/ units in the LSTM layer\n",
    "  #active_func: Activation function to be used in LSTM layers and Dense layer\n",
    "  #dropout: dropout ration, default is 0.25\n",
    "  #loss: loss function for calculating the gradient\n",
    "  #optimizer: type of optimizer to backpropagate the gradient\n",
    "  #This function will build 3 layered RNN model with LSTM cells with dripouts after each LSTM layer \n",
    "  #and finally a dense layer to produce the output using keras' sequential model.\n",
    "  #Return: Keras sequential model and model summary\n",
    "    output_size=outputs[0].shape[0]\n",
    "    model = Sequential()\n",
    "    model.add(LSTM(neurons, return_sequences=True, input_shape=(inputs.shape[1], inputs.shape[2]), activation=activ_func))\n",
    "    model.add(Dropout(dropout))\n",
    "    model.add(LSTM(neurons, return_sequences=True, activation=activ_func))\n",
    "    model.add(Dropout(dropout))\n",
    "    model.add(LSTM(neurons, activation=activ_func))\n",
    "    model.add(Dropout(dropout))\n",
    "    model.add(Dense(units=output_size))\n",
    "    model.add(Activation(activ_func))\n",
    "    model.compile(loss=loss, optimizer=optimizer, metrics=['mae'])\n",
    "    model.summary()\n",
    "    return model\n",
    "\n"
   ]
  },
  {
   "cell_type": "code",
   "execution_count": 17,
   "metadata": {},
   "outputs": [
    {
     "name": "stdout",
     "output_type": "stream",
     "text": [
      "_________________________________________________________________\n",
      "Layer (type)                 Output Shape              Param #   \n",
      "=================================================================\n",
      "lstm_1 (LSTM)                (None, 120, 512)          1054720   \n",
      "_________________________________________________________________\n",
      "dropout_1 (Dropout)          (None, 120, 512)          0         \n",
      "_________________________________________________________________\n",
      "lstm_2 (LSTM)                (None, 120, 512)          2099200   \n",
      "_________________________________________________________________\n",
      "dropout_2 (Dropout)          (None, 120, 512)          0         \n",
      "_________________________________________________________________\n",
      "lstm_3 (LSTM)                (None, 512)               2099200   \n",
      "_________________________________________________________________\n",
      "dropout_3 (Dropout)          (None, 512)               0         \n",
      "_________________________________________________________________\n",
      "dense_1 (Dense)              (None, 60)                30780     \n",
      "_________________________________________________________________\n",
      "activation_1 (Activation)    (None, 60)                0         \n",
      "=================================================================\n",
      "Total params: 5,283,900\n",
      "Trainable params: 5,283,900\n",
      "Non-trainable params: 0\n",
      "_________________________________________________________________\n"
     ]
    }
   ],
   "source": [
    "# random seed for reproducibility\n",
    "np.random.seed(2018)\n",
    "model = build_model(X_train, Y_train, neurons=neurons)\n",
    "#model.fit(X_train, Y_train, epochs=epochs, batch_size=batch_size, verbose=1, validation_data=(X_test, Y_test), shuffle=False)"
   ]
  },
  {
   "cell_type": "code",
   "execution_count": 18,
   "metadata": {},
   "outputs": [],
   "source": [
    "#X=inputs[:5]\n",
    "#Y= np.ndarray(shape=(5,3), dtype=float, order='F')\n"
   ]
  },
  {
   "cell_type": "code",
   "execution_count": 19,
   "metadata": {},
   "outputs": [],
   "source": [
    "#print(Y[0])\n"
   ]
  },
  {
   "cell_type": "code",
   "execution_count": null,
   "metadata": {},
   "outputs": [
    {
     "name": "stdout",
     "output_type": "stream",
     "text": [
      "Epoch 1/20\n",
      "1022/1022 [==============================] - 164s 161ms/step - loss: 8.7727e-06 - mean_absolute_error: 0.0022\n",
      "Epoch 2/20\n",
      "1022/1022 [==============================] - 154s 151ms/step - loss: 7.5308e-06 - mean_absolute_error: 0.0020\n",
      "Epoch 3/20\n",
      "1022/1022 [==============================] - 150s 146ms/step - loss: 7.2210e-06 - mean_absolute_error: 0.0020\n",
      "Epoch 4/20\n",
      "1022/1022 [==============================] - 159s 156ms/step - loss: 7.1591e-06 - mean_absolute_error: 0.0020\n",
      "Epoch 5/20\n",
      "1022/1022 [==============================] - 155s 152ms/step - loss: 7.0608e-06 - mean_absolute_error: 0.0019\n",
      "Epoch 6/20\n",
      " 990/1022 [============================>.] - ETA: 4s - loss: 7.0817e-06 - mean_absolute_error: 0.0019"
     ]
    }
   ],
   "source": [
    "model.fit(X_train, Y_train, epochs=20, batch_size=10, shuffle=False)\n",
    "\n"
   ]
  },
  {
   "cell_type": "code",
   "execution_count": 150,
   "metadata": {},
   "outputs": [
    {
     "data": {
      "text/plain": [
       "[array([[nan, nan, nan, ..., nan, nan, nan],\n",
       "        [nan, nan, nan, ..., nan, nan, nan]], dtype=float32),\n",
       " array([[nan, nan, nan, ..., nan, nan, nan],\n",
       "        [nan, nan, nan, ..., nan, nan, nan],\n",
       "        [nan, nan, nan, ..., nan, nan, nan],\n",
       "        ...,\n",
       "        [nan, nan, nan, ..., nan, nan, nan],\n",
       "        [nan, nan, nan, ..., nan, nan, nan],\n",
       "        [nan, nan, nan, ..., nan, nan, nan]], dtype=float32),\n",
       " array([-2.3464066e-09,  9.1116990e-09,  2.0842774e-09, ...,\n",
       "         3.9120667e-09,  5.0424673e-09, -5.4070233e-09], dtype=float32),\n",
       " array([[nan, nan, nan, ..., nan, nan, nan],\n",
       "        [nan, nan, nan, ..., nan, nan, nan],\n",
       "        [nan, nan, nan, ..., nan, nan, nan],\n",
       "        ...,\n",
       "        [nan, nan, nan, ..., nan, nan, nan],\n",
       "        [nan, nan, nan, ..., nan, nan, nan],\n",
       "        [nan, nan, nan, ..., nan, nan, nan]], dtype=float32),\n",
       " array([[nan, nan, nan, ..., nan, nan, nan],\n",
       "        [nan, nan, nan, ..., nan, nan, nan],\n",
       "        [nan, nan, nan, ..., nan, nan, nan],\n",
       "        ...,\n",
       "        [nan, nan, nan, ..., nan, nan, nan],\n",
       "        [nan, nan, nan, ..., nan, nan, nan],\n",
       "        [nan, nan, nan, ..., nan, nan, nan]], dtype=float32),\n",
       " array([-6.8169155e-09, -6.1691372e-09,  8.5099687e-09, ...,\n",
       "        -1.4526300e-08, -2.1269244e-09, -1.3630303e-08], dtype=float32),\n",
       " array([[nan, nan, nan, ..., nan, nan, nan],\n",
       "        [nan, nan, nan, ..., nan, nan, nan],\n",
       "        [nan, nan, nan, ..., nan, nan, nan],\n",
       "        ...,\n",
       "        [nan, nan, nan, ..., nan, nan, nan],\n",
       "        [nan, nan, nan, ..., nan, nan, nan],\n",
       "        [nan, nan, nan, ..., nan, nan, nan]], dtype=float32),\n",
       " array([[nan, nan, nan, ..., nan, nan, nan],\n",
       "        [nan, nan, nan, ..., nan, nan, nan],\n",
       "        [nan, nan, nan, ..., nan, nan, nan],\n",
       "        ...,\n",
       "        [nan, nan, nan, ..., nan, nan, nan],\n",
       "        [nan, nan, nan, ..., nan, nan, nan],\n",
       "        [nan, nan, nan, ..., nan, nan, nan]], dtype=float32),\n",
       " array([-2.6999640e-09,  8.1323179e-09, -4.8345958e-09, ...,\n",
       "        -5.3223626e-09, -5.4485327e-09, -4.9878044e-09], dtype=float32),\n",
       " array([[nan, nan, nan, ..., nan, nan, nan],\n",
       "        [nan, nan, nan, ..., nan, nan, nan],\n",
       "        [nan, nan, nan, ..., nan, nan, nan],\n",
       "        ...,\n",
       "        [nan, nan, nan, ..., nan, nan, nan],\n",
       "        [nan, nan, nan, ..., nan, nan, nan],\n",
       "        [nan, nan, nan, ..., nan, nan, nan]], dtype=float32),\n",
       " array([nan, nan, nan, nan, nan, nan, nan, nan, nan, nan, nan, nan, nan,\n",
       "        nan, nan, nan, nan, nan, nan, nan, nan, nan, nan, nan, nan, nan,\n",
       "        nan, nan, nan, nan, nan, nan, nan, nan, nan, nan, nan, nan, nan,\n",
       "        nan, nan, nan, nan, nan, nan, nan, nan, nan, nan, nan, nan, nan,\n",
       "        nan, nan, nan, nan, nan, nan, nan, nan], dtype=float32)]"
      ]
     },
     "execution_count": 150,
     "metadata": {},
     "output_type": "execute_result"
    }
   ],
   "source": [
    "model.get_weights()\n"
   ]
  },
  {
   "cell_type": "code",
   "execution_count": 144,
   "metadata": {},
   "outputs": [],
   "source": [
    "Pred=model.predict(X_test[:1])\n"
   ]
  },
  {
   "cell_type": "code",
   "execution_count": 145,
   "metadata": {},
   "outputs": [
    {
     "data": {
      "text/plain": [
       "array([nan, nan, nan, nan, nan, nan, nan, nan, nan, nan, nan, nan, nan,\n",
       "       nan, nan, nan, nan, nan, nan, nan, nan, nan, nan, nan, nan, nan,\n",
       "       nan, nan, nan, nan, nan, nan, nan, nan, nan, nan, nan, nan, nan,\n",
       "       nan, nan, nan, nan, nan, nan, nan, nan, nan, nan, nan, nan, nan,\n",
       "       nan, nan, nan, nan, nan, nan, nan, nan], dtype=float32)"
      ]
     },
     "execution_count": 145,
     "metadata": {},
     "output_type": "execute_result"
    }
   ],
   "source": [
    "Pred[0]\n"
   ]
  },
  {
   "cell_type": "code",
   "execution_count": null,
   "metadata": {},
   "outputs": [],
   "source": []
  },
  {
   "cell_type": "code",
   "execution_count": null,
   "metadata": {},
   "outputs": [],
   "source": []
  }
 ],
 "metadata": {
  "kernelspec": {
   "display_name": "Python 3",
   "language": "python",
   "name": "python3"
  },
  "language_info": {
   "codemirror_mode": {
    "name": "ipython",
    "version": 3
   },
   "file_extension": ".py",
   "mimetype": "text/x-python",
   "name": "python",
   "nbconvert_exporter": "python",
   "pygments_lexer": "ipython3",
   "version": "3.6.6"
  }
 },
 "nbformat": 4,
 "nbformat_minor": 2
}
